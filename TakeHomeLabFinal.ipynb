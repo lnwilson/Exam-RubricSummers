{
 "cells": [
  {
   "cell_type": "markdown",
   "metadata": {
    "editable": false
   },
   "source": [
    "Rubric code: Summers\n",
    "# Take Home Lab Final Exam <font color=red>(60 marks)</font>#\n",
    "* Available April 1, 2020 @ 12:01 AM\n",
    "* Due April 8, 2020 @ 11:59 PM\n",
    "\n",
    "## Objectives: ##\n",
    "To assess student's mastery of using appropriate R commands.\n",
    "\n",
    "## Instructions: ##\n",
    "* You may use the \"<em>R commands so far</em>\" file on moodle.\n",
    "* You may look at the other tutorials, both your solutions and the sample solutions.\n",
    "* You may look up material in your textbook.\n",
    "* You may reference your notes.<br><br>\n",
    "\n",
    "* You may NOT work with another student to complete the exam.\n",
    "* You may NOT ask another student in the class how to answer any question. \n",
    "* You may NOT ask someone outside of the course to help you answer any question.\n",
    "\n",
    "## Assessment: ##\n",
    "* You must show all R commands used to find the solutions.\n",
    "* Marks are assigned for using appropriate R commands and using R for your calculations.\n",
    "* Correctly calculated answers without appropriate R command/calculations shown will be worth 0 marks.\n",
    "\n",
    "## Formulae: ##\n",
    "No formlae are provided for this tutorial.\n",
    "\n",
    "## Tools: ##"
   ]
  },
  {
   "cell_type": "code",
   "execution_count": 1,
   "metadata": {
    "editable": false
   },
   "outputs": [],
   "source": [
    "births <- read.csv(\"births.csv\",header=TRUE)"
   ]
  },
  {
   "cell_type": "markdown",
   "metadata": {
    "editable": false
   },
   "source": [
    "## Data Information: ##\n",
    "\n",
    "### Data Set 1: ###\n",
    "These data are birth records released by North Carolina in 2004.\n",
    "\n",
    "#### Name: #### \n",
    "* `births` - health data from the sample of the BRFSS survey from 2000.\n",
    "\n",
    "#### Variables: ####\n",
    "* `fAge` - Father’s age in years.\n",
    "* `mAge` - Mother’s age in years.\n",
    "* `weeks` - Number of weeks of gestation.\n",
    "* `premature` - Indicates whether the baby was premature (premie) or not (full term).\n",
    "* `visits` - Number of hospital visits.\n",
    "* `gained` - Weight gained by mother (lbs).\n",
    "* `weight` - Birth weight of the baby (lbs).\n",
    "* `sexBaby` - Gender of the baby (female or male).\n",
    "* `smoke` - Whether or not the mother was a smoker (smoker) or not (nonsmoker).\n",
    "\n",
    "### Data Set 2: ###\n",
    "A small random sample of observations from the 2000 U.S. Census Data.<br>You have been given a table that was constructed using this data.<br>\n",
    "- the data has not been provided as you will not need it to answer questions.\n",
    "\n",
    "#### Variables: ####\n",
    "* `sex` - Sex with levels: Female and Male.\n",
    "* `race_general` - Race with levels: American Indian or Alaska Native, Black, Chinese, Japanese, Other Asian or Pacific Islander, Two major races, White and Other.\n",
    "\n",
    "#### Table (also displayed in question 4) ####\n",
    "<table><tr><td>\t\t</td><td>\tFemale\t</td><td>\tMale\t</td></tr>\n",
    "<tr><td>\tAmerican Indian or Alaska Native\t</td><td>\t1\t</td><td>\t1\t</td></tr>\n",
    "<tr><td>\tBlack\t</td><td>\t12\t</td><td>\t13\t</td></tr>\n",
    "<tr><td>\tWhite\t</td><td>\t52\t</td><td>\t51\t</td></tr>\n",
    "<tr><td>\tChinese\t</td><td>\t4\t</td><td>\t1\t</td></tr>\n",
    "<tr><td>\tJapanese\t</td><td>\t0\t</td><td>\t1\t</td></tr>\n",
    "<tr><td>\tOther Asian or Pacific Islander\t</td><td>\t1\t</td><td>\t5\t</td></tr>\n",
    "<tr><td>\tTwo major races\t</td><td>\t0\t</td><td>\t3\t</td></tr>\n",
    "<tr><td>\tOther\t</td><td>\t2\t</td><td>\t3\t</td></tr></table>\n",
    "\n",
    "### Data Set 3: ###\n",
    "Height data by country as presented on tall.Life (https://tall.life/)."
   ]
  },
  {
   "cell_type": "markdown",
   "metadata": {
    "editable": false
   },
   "source": [
    "# Question 1 <font color=red>(10 marks)</font>##\n",
    "### Use the `births` data to complete each of the following tasks using R commands ###\n",
    "* a. Determine the minimum mother's age. \n",
    "* b. Determine sex of the baby with the youngest mother.\n",
    "* c. Determine the maximum father's age. \n",
    "* d. Determine sex of the baby with the oldest father.\n",
    "* e. Determine the range of the mothers' ages.\n",
    "* f. Determine the lower quartile, median, and upper quartile of the mothers' ages.\n",
    "* g. Determine the interquartile range of the mothers' ages.\n",
    "* h. Determine the mean mothers' age of all the male babies whose mother smoked."
   ]
  },
  {
   "cell_type": "code",
   "execution_count": null,
   "metadata": {},
   "outputs": [],
   "source": [
    "This is a code cell, use the + symbol in the menu above to create as many code cells as you need."
   ]
  },
  {
   "cell_type": "markdown",
   "metadata": {
    "editable": false
   },
   "source": [
    "### Answer 1. ##"
   ]
  },
  {
   "cell_type": "markdown",
   "metadata": {},
   "source": [
    "* a. _ \n",
    "* b. _\n",
    "* c. _ \n",
    "* d. _\n",
    "* e. _\n",
    "* f. _\n",
    "* g. _\n",
    "* h. _"
   ]
  },
  {
   "cell_type": "markdown",
   "metadata": {
    "editable": false
   },
   "source": [
    "# Question 2 <font color=red>(9 marks)</font>##\n",
    "### Use the `births` data to complete each of the following tasks using R commands ###\n",
    "### Label all of the graphics appropriately. ###\n",
    "* a. Make a histogram for the mothers' ages. \n",
    "* b. Make side-by-side boxplots for the mothers' ages of the female and male babies. \n",
    "* c. Make a scatterplot for the mothers' and fathers' ages."
   ]
  },
  {
   "cell_type": "markdown",
   "metadata": {
    "editable": false
   },
   "source": [
    "### Answer 2a. ##"
   ]
  },
  {
   "cell_type": "code",
   "execution_count": null,
   "metadata": {},
   "outputs": [],
   "source": [
    "This is a code cell, use the + symbol in the menu above to create as many code cells as you need."
   ]
  },
  {
   "cell_type": "markdown",
   "metadata": {
    "editable": false
   },
   "source": [
    "### Answer 2b. ##"
   ]
  },
  {
   "cell_type": "code",
   "execution_count": null,
   "metadata": {},
   "outputs": [],
   "source": [
    "This is a code cell, use the + symbol in the menu above to create as many code cells as you need."
   ]
  },
  {
   "cell_type": "markdown",
   "metadata": {
    "editable": false
   },
   "source": [
    "### Answer 2c. ##"
   ]
  },
  {
   "cell_type": "code",
   "execution_count": null,
   "metadata": {},
   "outputs": [],
   "source": [
    "This is a code cell, use the + symbol in the menu above to create as many code cells as you need."
   ]
  },
  {
   "cell_type": "markdown",
   "metadata": {
    "editable": false
   },
   "source": [
    "# Question 3 <font color=red>(10 marks)</font>##\n",
    "### Use the `births` data to complete each of the following tasks using R commands ###\n",
    "### Label all of the graphics appropriately. ###\n",
    "* a. Make a contingency table for the sex of the baby and whether or not the mother smoked.\n",
    "* b. Make a relative frequency table for the sex of the baby and whether or not the mother smoked, split by the sex of the baby first then whether of not the mother smoked.\n",
    "* c. Make a stacked barplot for whether or not the mother smoked split by their sex. \n",
    "* d. Make a mosaic plot for whether or not the mother smoked split by their sex. "
   ]
  },
  {
   "cell_type": "markdown",
   "metadata": {
    "editable": false
   },
   "source": [
    "### Answer 3a. ##"
   ]
  },
  {
   "cell_type": "code",
   "execution_count": null,
   "metadata": {},
   "outputs": [],
   "source": [
    "This is a code cell, use the + symbol in the menu above to create as many code cells as you need."
   ]
  },
  {
   "cell_type": "markdown",
   "metadata": {
    "editable": false
   },
   "source": [
    "### Answer 3b. ##"
   ]
  },
  {
   "cell_type": "code",
   "execution_count": null,
   "metadata": {},
   "outputs": [],
   "source": [
    "This is a code cell, use the + symbol in the menu above to create as many code cells as you need."
   ]
  },
  {
   "cell_type": "markdown",
   "metadata": {
    "editable": false
   },
   "source": [
    "### Answer 3c. ##"
   ]
  },
  {
   "cell_type": "code",
   "execution_count": null,
   "metadata": {},
   "outputs": [],
   "source": [
    "This is a code cell, use the + symbol in the menu above to create as many code cells as you need."
   ]
  },
  {
   "cell_type": "markdown",
   "metadata": {
    "editable": false
   },
   "source": [
    "### Answer 3d. ##"
   ]
  },
  {
   "cell_type": "code",
   "execution_count": null,
   "metadata": {},
   "outputs": [],
   "source": [
    "This is a code cell, use the + symbol in the menu above to create as many code cells as you need."
   ]
  },
  {
   "cell_type": "markdown",
   "metadata": {
    "editable": false
   },
   "source": [
    "# Question 4 <font color=red>(10 marks)</font>##\n",
    "### Use the table below to complete each of the following tasks by using R as your calculator ###\n",
    "<table><tr><td>\t\t</td><td>\tFemale\t</td><td>\tMale\t</td></tr>\n",
    "<tr><td>\tAmerican Indian or Alaska Native\t</td><td>\t1\t</td><td>\t1\t</td></tr>\n",
    "<tr><td>\tBlack\t</td><td>\t12\t</td><td>\t13\t</td></tr>\n",
    "<tr><td>\tWhite\t</td><td>\t52\t</td><td>\t51\t</td></tr>\n",
    "<tr><td>\tChinese\t</td><td>\t4\t</td><td>\t1\t</td></tr>\n",
    "<tr><td>\tJapanese\t</td><td>\t0\t</td><td>\t1\t</td></tr>\n",
    "<tr><td>\tOther Asian or Pacific Islander\t</td><td>\t1\t</td><td>\t5\t</td></tr>\n",
    "<tr><td>\tTwo major races\t</td><td>\t0\t</td><td>\t3\t</td></tr>\n",
    "<tr><td>\tOther\t</td><td>\t2\t</td><td>\t3\t</td></tr></table>\n",
    "\n",
    "Determine the probability that a randomly selected member of this sample will be...\n",
    "* a. ... female.\n",
    "* b. ... not black.\n",
    "* c. ... in the category other Asian or Pacific Islander or in the category other.\n",
    "* d. ... male or in the category two major races.\n",
    "* e. ... white and female.\n",
    "* f. ... male given that they are white."
   ]
  },
  {
   "cell_type": "code",
   "execution_count": null,
   "metadata": {},
   "outputs": [],
   "source": [
    "This is a code cell, use the + symbol in the menu above to create as many code cells as you need."
   ]
  },
  {
   "cell_type": "markdown",
   "metadata": {
    "editable": false
   },
   "source": [
    "### Answer 4. ##"
   ]
  },
  {
   "cell_type": "markdown",
   "metadata": {},
   "source": [
    "* a. _ \n",
    "* b. _\n",
    "* c. _ \n",
    "* d. _\n",
    "* e. _\n",
    "* f. _"
   ]
  },
  {
   "cell_type": "markdown",
   "metadata": {
    "editable": false
   },
   "source": [
    "# Question 5 <font color=red>(12 marks)</font>##\n",
    "### Use the information presented below to complete each of the following tasks by using R commands and/or using R as your calculator ###\n",
    "According to the 2016 Canadian census, as of May 10 2016 there were 35,151,728 Canadian citizens and 4,648,055 of them lived in British Columbia.\n",
    "* a. Determine the probability that a randomly selected Canadian lives in British Columbia.\n",
    "* b. Let $X$ be a random variable representing the number of randomly selected Canadians out of a sample of 120 that live in British Columbia then $X$ is a binomial random variable. Give the short form for $X$.\n",
    "* c. Determine the mean of $X$.\n",
    "* d. Determine the standard deviation of $X$.\n",
    "* e. Determine the following probabilities:\n",
    "  * i. $P(X<10)$\n",
    "  * ii. $P(X\\le12)$\n",
    "  * iii. $P(X=22)$\n",
    "  * iv. $P(X\\ge13)$\n",
    "  * v. $P(9<X\\le12)$"
   ]
  },
  {
   "cell_type": "code",
   "execution_count": null,
   "metadata": {},
   "outputs": [],
   "source": [
    "This is a code cell, use the + symbol in the menu above to create as many code cells as you need."
   ]
  },
  {
   "cell_type": "markdown",
   "metadata": {
    "editable": false
   },
   "source": [
    "### Answer 5. ##"
   ]
  },
  {
   "cell_type": "markdown",
   "metadata": {},
   "source": [
    "* a. _ \n",
    "* b. _\n",
    "* c. _ \n",
    "* d. _\n",
    "* e. \n",
    "  * i. _\n",
    "  * ii. _\n",
    "  * iii. _\n",
    "  * iv. _\n",
    "  * v. _"
   ]
  },
  {
   "cell_type": "markdown",
   "metadata": {
    "editable": false
   },
   "source": [
    "# Question 6 <font color=red>(9 marks)</font>##\n",
    "### Use the information presented below to complete each of the following tasks by using R commands and/or using R as your calculator ###\n",
    "According to the website Tall Life, the heights of adult men in South Africa are normally distributed with a mean of 168 cm and a standard deviation of 7.42 cm. Let $Y$ be a random variable representing the height in cm of men in South Africa.\n",
    "* a. Give the short form for $Y$.\n",
    "* b. Determine the following probabilities:\n",
    "  * i. $P(Y<164)$\n",
    "  * ii. $P(Y>148)$\n",
    "  * iii. $P(157<Y<175)$\n",
    "* c. Determine the following values:\n",
    "  * i. The 85th percentile.\n",
    "  * ii. The minimum height to be among the tallest 6% of men in South Africa."
   ]
  },
  {
   "cell_type": "code",
   "execution_count": null,
   "metadata": {},
   "outputs": [],
   "source": [
    "This is a code cell, use the + symbol in the menu above to create as many code cells as you need."
   ]
  },
  {
   "cell_type": "markdown",
   "metadata": {
    "editable": false
   },
   "source": [
    "### Answer 6. ##"
   ]
  },
  {
   "cell_type": "markdown",
   "metadata": {},
   "source": [
    "* a. _\n",
    "* b. \n",
    "  * i. _\n",
    "  * ii. _\n",
    "  * iii. _\n",
    "* c. \n",
    "  * i. _\n",
    "  * ii. _"
   ]
  },
  {
   "cell_type": "markdown",
   "metadata": {
    "editable": false
   },
   "source": [
    "---\n",
    "---\n",
    "#### This tutorial is released under a Creative Commons Attribution-ShareAlike 3.0 Unported.\n",
    "\n",
    "This tutorial has been adapted from a lab that  was adapted for OpenIntro by Andrew Bray and Mine Çetinkaya-Rundel from a lab written by Mark Hansen of UCLA Statistics.\n",
    "\n",
    "---\n",
    "---"
   ]
  }
 ],
 "metadata": {
  "kernelspec": {
   "display_name": "R",
   "language": "R",
   "name": "ir"
  },
  "language_info": {
   "codemirror_mode": "r",
   "file_extension": ".r",
   "mimetype": "text/x-r-source",
   "name": "R",
   "pygments_lexer": "r",
   "version": "3.6.1"
  }
 },
 "nbformat": 4,
 "nbformat_minor": 2
}
